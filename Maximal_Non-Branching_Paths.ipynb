{
 "cells": [
  {
   "cell_type": "markdown",
   "metadata": {},
   "source": [
    "# Generate All Maximal Non-Branching Paths in a Graph"
   ]
  },
  {
   "cell_type": "markdown",
   "metadata": {},
   "source": [
    "Reference : [Here](http://rosalind.info/problems/ba3m/)"
   ]
  },
  {
   "cell_type": "markdown",
   "metadata": {},
   "source": [
    "#### Input  : The adjacency list of a graph whose nodes are integers.\n",
    "#### Output : The collection of all maximal non-branching paths in the graph."
   ]
  },
  {
   "cell_type": "code",
   "execution_count": 2,
   "metadata": {},
   "outputs": [],
   "source": [
    "import pandas as pd\n",
    "import numpy as np\n",
    "import os"
   ]
  },
  {
   "cell_type": "markdown",
   "metadata": {},
   "source": [
    "## Download the sample dataset from this [link](http://bioinformaticsalgorithms.com/data/extradatasets/assembly/maximal_nonbranching_paths.txt).\n",
    "## Loading the Input file"
   ]
  },
  {
   "cell_type": "code",
   "execution_count": 3,
   "metadata": {},
   "outputs": [],
   "source": [
    "dataset = 'sample_maximal_nonbranching_paths'\n",
    "dataset_folder = os.getcwd() + \"\\\\TestData\\\\\"\n",
    "with open(dataset_folder+dataset+'.txt') as file:\n",
    "    data = [line.rstrip() for line in file]\n",
    "# print(*data, sep=\"\\n\")\n",
    "inp = data[1:data.index('Output')]\n",
    "out = data[data.index('Output')+1:]\n",
    "# print(*out, sep=\"\\n\")\n",
    "data = inp"
   ]
  },
  {
   "cell_type": "markdown",
   "metadata": {},
   "source": [
    "## Custom Inputs"
   ]
  },
  {
   "cell_type": "code",
   "execution_count": 4,
   "metadata": {},
   "outputs": [],
   "source": [
    "# data = [\n",
    "#     '1 -> 2',\n",
    "#     '2 -> 3',\n",
    "#     '3 -> 4,5',\n",
    "#     '6 -> 7',\n",
    "#     '7 -> 6'\n",
    "# ]\n",
    "\n",
    "data = [\n",
    "    '1 -> 2',\n",
    "    '2 -> 3',\n",
    "    '3 -> 4,5',\n",
    "    '6 -> 7',\n",
    "    '7 -> 8',\n",
    "    '8 -> 9',\n",
    "    '10 -> 11',\n",
    "    '9 -> 6',\n",
    "    '11 -> 10'\n",
    "]"
   ]
  },
  {
   "cell_type": "markdown",
   "metadata": {},
   "source": [
    "## Pseudocode"
   ]
  },
  {
   "cell_type": "markdown",
   "metadata": {},
   "source": [
    "    MaximalNonBranchingPaths(Graph)\n",
    "        Paths ← empty list\n",
    "        for each node v in Graph\n",
    "            if v is not a 1-in-1-out node\n",
    "                if out(v) > 0\n",
    "                    for each outgoing edge (v, w) from v\n",
    "                        NonBranchingPath ← the path consisting of the single edge (v, w)\n",
    "                        while w is a 1-in-1-out node\n",
    "                            extend NonBranchingPath by the outgoing edge (w, u) from w \n",
    "                            w ← u\n",
    "                        add NonBranchingPath to the set Paths\n",
    "        for each isolated cycle Cycle in Graph\n",
    "            add Cycle to Paths\n",
    "        return Paths "
   ]
  },
  {
   "cell_type": "markdown",
   "metadata": {},
   "source": [
    "## Generating the adjacency list corresponding to the input"
   ]
  },
  {
   "cell_type": "code",
   "execution_count": 5,
   "metadata": {},
   "outputs": [],
   "source": [
    "def convert_to_graph_edges(raw_data):\n",
    "    graph = {}\n",
    "    for line in raw_data:\n",
    "        x = line.split(\" -> \")\n",
    "        a,b = x[0],x[1].split(',')\n",
    "        subset = graph.get(x[0],[])\n",
    "        graph[x[0]] = subset+b\n",
    "        \n",
    "    return graph"
   ]
  },
  {
   "cell_type": "markdown",
   "metadata": {},
   "source": [
    "## Generating the adjacency matrix from the adjacency list"
   ]
  },
  {
   "cell_type": "code",
   "execution_count": 6,
   "metadata": {},
   "outputs": [],
   "source": [
    "def load_adj_mat(graph_edges): # this method creates adjacent matrix\n",
    "    st = set()\n",
    "    for key in graph_edges.keys():\n",
    "        st.add(key)\n",
    "        for value in graph_edges[key]:\n",
    "            st.add(value)\n",
    "    \n",
    "    st = list(np.sort([int(x) for x in list(st)]))\n",
    "    st = [str(x) for x in st]# lexicographical order\n",
    "    adj_mat = pd.DataFrame(np.zeros((len(st),len(st)),dtype=int),index=list(st),columns=list(st))\n",
    "    \n",
    "    for key in graph_edges.keys():\n",
    "        for value in graph_edges[key]:\n",
    "            adj_mat.loc[key,value] = 1\n",
    "            \n",
    "    return adj_mat"
   ]
  },
  {
   "cell_type": "markdown",
   "metadata": {},
   "source": [
    "## Performing DFS for linear and cyclic paths"
   ]
  },
  {
   "cell_type": "code",
   "execution_count": 7,
   "metadata": {},
   "outputs": [],
   "source": [
    "def do_DFS(matrix,start,List):\n",
    "    List.append(start)\n",
    "    outgoing_nodes = matrix.index[matrix.loc[start].isin([1])].tolist()\n",
    "\n",
    "    if (outgoing_nodes == []):\n",
    "        return List\n",
    "    \n",
    "    for outnode in outgoing_nodes:\n",
    "        if outnode not in List:\n",
    "            List = do_DFS(matrix,outnode,List) # Recursive Call\n",
    "    return List\n",
    "\n",
    "#For isolated cycle detection\n",
    "def i_dfs(matrix,u,ipaths,status,parent):\n",
    "    status[u] = 'G'\n",
    "    for v in matrix.columns[matrix.loc[u].isin([1])].tolist():\n",
    "        if status[v] == 'G':\n",
    "            parent[v] = u\n",
    "            add_cycle(u,parent,ipaths)\n",
    "            break\n",
    "        if status[v] == 'W':\n",
    "            parent[v] = u\n",
    "            i_dfs(matrix,v,ipaths,status,parent)\n",
    "    status[u] = 'B'"
   ]
  },
  {
   "cell_type": "markdown",
   "metadata": {},
   "source": [
    "## Adding the cyclic paths to the final output"
   ]
  },
  {
   "cell_type": "code",
   "execution_count": 8,
   "metadata": {},
   "outputs": [],
   "source": [
    "def add_cycle(u,parent,ipaths):\n",
    "    start = u\n",
    "    path = f'{u} -> {parent[u]}'\n",
    "    u = parent[u]\n",
    "    while u!=start:\n",
    "        path = path + f' -> {parent[u]}'\n",
    "        u = parent[u]\n",
    "    ipaths.append(path)"
   ]
  },
  {
   "cell_type": "markdown",
   "metadata": {},
   "source": [
    "## Finding the Maximal Non Branching Paths"
   ]
  },
  {
   "cell_type": "code",
   "execution_count": 9,
   "metadata": {},
   "outputs": [],
   "source": [
    "def MaximalNonBranchingPaths(graph):\n",
    "    matrix = load_adj_mat(graph)\n",
    "    Paths = []\n",
    "    Set = set()\n",
    "    \n",
    "    #ICycle inits\n",
    "    status = {}\n",
    "    parent = {}\n",
    "    icycle_paths = []\n",
    "    \n",
    "    for key in graph.keys():\n",
    "        if (not(matrix.loc[key].sum()==1 and matrix[key].sum()==1)):\n",
    "            if (matrix.loc[key].sum()> 0):\n",
    "                outgoing_nodes = matrix.index[matrix.loc[key].isin([1])].tolist()\n",
    "                Set.add(key)\n",
    "                for outnode in outgoing_nodes:\n",
    "                    path = key+\"\"\n",
    "                    while(matrix.loc[outnode].sum()==1 and matrix[outnode].sum()==1):   \n",
    "                        Set.add(outnode)\n",
    "                        path = path + \" -> \" + outnode\n",
    "                        outnode = matrix.index[matrix.loc[outnode].isin([1])].tolist()[0]\n",
    "\n",
    "                    Set.add(outnode)\n",
    "                    Paths.append(path + \" -> \" + outnode)\n",
    "                    \n",
    "    icycle_nodes = sorted([key for key in graph.keys() if key not in Set])\n",
    "    for node in icycle_nodes:\n",
    "        status[node] = 'W'\n",
    "        parent[node] = None\n",
    "    \n",
    "    for node in icycle_nodes:\n",
    "        i_dfs(matrix,node,icycle_paths,status,parent)\n",
    "    \n",
    "    newlis = list()\n",
    "    for i in icycle_paths:\n",
    "        newx = [x for x in i.split(' -> ')[::-1]]\n",
    "        newlis.append(' -> '.join(newx))\n",
    "        \n",
    "    Paths += newlis\n",
    "    return (Paths,matrix,icycle_paths)"
   ]
  },
  {
   "cell_type": "code",
   "execution_count": 10,
   "metadata": {},
   "outputs": [
    {
     "name": "stdout",
     "output_type": "stream",
     "text": [
      "Input Graph Edges : {'1': ['2'], '2': ['3'], '3': ['4', '5'], '6': ['7'], '7': ['8'], '8': ['9'], '10': ['11'], '9': ['6'], '11': ['10']}\n",
      "\n",
      "Adjacent Matrix :\n"
     ]
    },
    {
     "data": {
      "text/html": [
       "<div>\n",
       "<style scoped>\n",
       "    .dataframe tbody tr th:only-of-type {\n",
       "        vertical-align: middle;\n",
       "    }\n",
       "\n",
       "    .dataframe tbody tr th {\n",
       "        vertical-align: top;\n",
       "    }\n",
       "\n",
       "    .dataframe thead th {\n",
       "        text-align: right;\n",
       "    }\n",
       "</style>\n",
       "<table border=\"1\" class=\"dataframe\">\n",
       "  <thead>\n",
       "    <tr style=\"text-align: right;\">\n",
       "      <th></th>\n",
       "      <th>1</th>\n",
       "      <th>2</th>\n",
       "      <th>3</th>\n",
       "      <th>4</th>\n",
       "      <th>5</th>\n",
       "      <th>6</th>\n",
       "      <th>7</th>\n",
       "      <th>8</th>\n",
       "      <th>9</th>\n",
       "      <th>10</th>\n",
       "      <th>11</th>\n",
       "    </tr>\n",
       "  </thead>\n",
       "  <tbody>\n",
       "    <tr>\n",
       "      <th>1</th>\n",
       "      <td>0</td>\n",
       "      <td>1</td>\n",
       "      <td>0</td>\n",
       "      <td>0</td>\n",
       "      <td>0</td>\n",
       "      <td>0</td>\n",
       "      <td>0</td>\n",
       "      <td>0</td>\n",
       "      <td>0</td>\n",
       "      <td>0</td>\n",
       "      <td>0</td>\n",
       "    </tr>\n",
       "    <tr>\n",
       "      <th>2</th>\n",
       "      <td>0</td>\n",
       "      <td>0</td>\n",
       "      <td>1</td>\n",
       "      <td>0</td>\n",
       "      <td>0</td>\n",
       "      <td>0</td>\n",
       "      <td>0</td>\n",
       "      <td>0</td>\n",
       "      <td>0</td>\n",
       "      <td>0</td>\n",
       "      <td>0</td>\n",
       "    </tr>\n",
       "    <tr>\n",
       "      <th>3</th>\n",
       "      <td>0</td>\n",
       "      <td>0</td>\n",
       "      <td>0</td>\n",
       "      <td>1</td>\n",
       "      <td>1</td>\n",
       "      <td>0</td>\n",
       "      <td>0</td>\n",
       "      <td>0</td>\n",
       "      <td>0</td>\n",
       "      <td>0</td>\n",
       "      <td>0</td>\n",
       "    </tr>\n",
       "    <tr>\n",
       "      <th>4</th>\n",
       "      <td>0</td>\n",
       "      <td>0</td>\n",
       "      <td>0</td>\n",
       "      <td>0</td>\n",
       "      <td>0</td>\n",
       "      <td>0</td>\n",
       "      <td>0</td>\n",
       "      <td>0</td>\n",
       "      <td>0</td>\n",
       "      <td>0</td>\n",
       "      <td>0</td>\n",
       "    </tr>\n",
       "    <tr>\n",
       "      <th>5</th>\n",
       "      <td>0</td>\n",
       "      <td>0</td>\n",
       "      <td>0</td>\n",
       "      <td>0</td>\n",
       "      <td>0</td>\n",
       "      <td>0</td>\n",
       "      <td>0</td>\n",
       "      <td>0</td>\n",
       "      <td>0</td>\n",
       "      <td>0</td>\n",
       "      <td>0</td>\n",
       "    </tr>\n",
       "    <tr>\n",
       "      <th>6</th>\n",
       "      <td>0</td>\n",
       "      <td>0</td>\n",
       "      <td>0</td>\n",
       "      <td>0</td>\n",
       "      <td>0</td>\n",
       "      <td>0</td>\n",
       "      <td>1</td>\n",
       "      <td>0</td>\n",
       "      <td>0</td>\n",
       "      <td>0</td>\n",
       "      <td>0</td>\n",
       "    </tr>\n",
       "    <tr>\n",
       "      <th>7</th>\n",
       "      <td>0</td>\n",
       "      <td>0</td>\n",
       "      <td>0</td>\n",
       "      <td>0</td>\n",
       "      <td>0</td>\n",
       "      <td>0</td>\n",
       "      <td>0</td>\n",
       "      <td>1</td>\n",
       "      <td>0</td>\n",
       "      <td>0</td>\n",
       "      <td>0</td>\n",
       "    </tr>\n",
       "    <tr>\n",
       "      <th>8</th>\n",
       "      <td>0</td>\n",
       "      <td>0</td>\n",
       "      <td>0</td>\n",
       "      <td>0</td>\n",
       "      <td>0</td>\n",
       "      <td>0</td>\n",
       "      <td>0</td>\n",
       "      <td>0</td>\n",
       "      <td>1</td>\n",
       "      <td>0</td>\n",
       "      <td>0</td>\n",
       "    </tr>\n",
       "    <tr>\n",
       "      <th>9</th>\n",
       "      <td>0</td>\n",
       "      <td>0</td>\n",
       "      <td>0</td>\n",
       "      <td>0</td>\n",
       "      <td>0</td>\n",
       "      <td>1</td>\n",
       "      <td>0</td>\n",
       "      <td>0</td>\n",
       "      <td>0</td>\n",
       "      <td>0</td>\n",
       "      <td>0</td>\n",
       "    </tr>\n",
       "    <tr>\n",
       "      <th>10</th>\n",
       "      <td>0</td>\n",
       "      <td>0</td>\n",
       "      <td>0</td>\n",
       "      <td>0</td>\n",
       "      <td>0</td>\n",
       "      <td>0</td>\n",
       "      <td>0</td>\n",
       "      <td>0</td>\n",
       "      <td>0</td>\n",
       "      <td>0</td>\n",
       "      <td>1</td>\n",
       "    </tr>\n",
       "    <tr>\n",
       "      <th>11</th>\n",
       "      <td>0</td>\n",
       "      <td>0</td>\n",
       "      <td>0</td>\n",
       "      <td>0</td>\n",
       "      <td>0</td>\n",
       "      <td>0</td>\n",
       "      <td>0</td>\n",
       "      <td>0</td>\n",
       "      <td>0</td>\n",
       "      <td>1</td>\n",
       "      <td>0</td>\n",
       "    </tr>\n",
       "  </tbody>\n",
       "</table>\n",
       "</div>"
      ],
      "text/plain": [
       "    1  2  3  4  5  6  7  8  9  10  11\n",
       "1   0  1  0  0  0  0  0  0  0   0   0\n",
       "2   0  0  1  0  0  0  0  0  0   0   0\n",
       "3   0  0  0  1  1  0  0  0  0   0   0\n",
       "4   0  0  0  0  0  0  0  0  0   0   0\n",
       "5   0  0  0  0  0  0  0  0  0   0   0\n",
       "6   0  0  0  0  0  0  1  0  0   0   0\n",
       "7   0  0  0  0  0  0  0  1  0   0   0\n",
       "8   0  0  0  0  0  0  0  0  1   0   0\n",
       "9   0  0  0  0  0  1  0  0  0   0   0\n",
       "10  0  0  0  0  0  0  0  0  0   0   1\n",
       "11  0  0  0  0  0  0  0  0  0   1   0"
      ]
     },
     "metadata": {},
     "output_type": "display_data"
    },
    {
     "name": "stdout",
     "output_type": "stream",
     "text": [
      "Generated Maximal Non-Branching Paths\n",
      "1 -> 2 -> 3\n",
      "3 -> 4\n",
      "3 -> 5\n",
      "11 -> 10 -> 11\n",
      "9 -> 6 -> 7 -> 8 -> 9\n"
     ]
    }
   ],
   "source": [
    "graph = convert_to_graph_edges(data)\n",
    "Paths,Matrix,ic = MaximalNonBranchingPaths(graph)\n",
    "\n",
    "with open('output.txt','w') as f:\n",
    "    for path in Paths:\n",
    "        f.write(path + '\\n')\n",
    "\n",
    "# print('Raw Data    :',data)\n",
    "print('Input Graph Edges :',graph)\n",
    "print('\\nAdjacent Matrix :')\n",
    "display(Matrix)\n",
    "\n",
    "# print('\\n'+'*'*30+'Generated Maximal Non-Branching Paths'+'*'*30)\n",
    "print('Generated Maximal Non-Branching Paths')\n",
    "print(*Paths,sep='\\n')"
   ]
  },
  {
   "cell_type": "code",
   "execution_count": null,
   "metadata": {},
   "outputs": [],
   "source": []
  },
  {
   "cell_type": "code",
   "execution_count": 11,
   "metadata": {},
   "outputs": [
    {
     "data": {
      "text/plain": [
       "{'1': ['2'],\n",
       " '2': ['3'],\n",
       " '3': ['4', '5'],\n",
       " '6': ['7'],\n",
       " '7': ['8'],\n",
       " '8': ['9'],\n",
       " '10': ['11'],\n",
       " '9': ['6'],\n",
       " '11': ['10']}"
      ]
     },
     "execution_count": 11,
     "metadata": {},
     "output_type": "execute_result"
    }
   ],
   "source": [
    "graph"
   ]
  },
  {
   "cell_type": "code",
   "execution_count": null,
   "metadata": {},
   "outputs": [],
   "source": []
  }
 ],
 "metadata": {
  "kernelspec": {
   "display_name": "pyGen",
   "language": "python",
   "name": "pygen"
  },
  "language_info": {
   "codemirror_mode": {
    "name": "ipython",
    "version": 3
   },
   "file_extension": ".py",
   "mimetype": "text/x-python",
   "name": "python",
   "nbconvert_exporter": "python",
   "pygments_lexer": "ipython3",
   "version": "3.8.5"
  }
 },
 "nbformat": 4,
 "nbformat_minor": 4
}
