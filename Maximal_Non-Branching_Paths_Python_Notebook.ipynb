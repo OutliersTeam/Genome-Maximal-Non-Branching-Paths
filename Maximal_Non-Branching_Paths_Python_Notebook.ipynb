{
 "cells": [
  {
   "cell_type": "markdown",
   "metadata": {},
   "source": [
    "# Generate All Maximal Non-Branching Paths in a Graph"
   ]
  },
  {
   "cell_type": "markdown",
   "metadata": {},
   "source": [
    "Reference : [Here](http://rosalind.info/problems/ba3m/)"
   ]
  },
  {
   "cell_type": "markdown",
   "metadata": {},
   "source": [
    "#### Input  : The adjacency list of a graph whose nodes are integers.\n",
    "#### Output : The collection of all maximal non-branching paths in the graph."
   ]
  },
  {
   "cell_type": "code",
   "execution_count": 1,
   "metadata": {},
   "outputs": [],
   "source": [
    "import pandas as pd\n",
    "import numpy as np\n",
    "import os"
   ]
  },
  {
   "cell_type": "markdown",
   "metadata": {},
   "source": [
    "## Download the sample dataset from this [link](http://bioinformaticsalgorithms.com/data/extradatasets/assembly/maximal_nonbranching_paths.txt)."
   ]
  },
  {
   "cell_type": "code",
   "execution_count": 2,
   "metadata": {},
   "outputs": [],
   "source": [
    "dataset = 'maximal_nonbranching_paths.txt'\n",
    "with open(dataset) as file:\n",
    "    raw_data = [line.rstrip() for line in file]\n",
    "data = raw_data[1:raw_data.index('Output')]\n",
    "out = raw_data[raw_data.index('Output')+1:]"
   ]
  },
  {
   "cell_type": "markdown",
   "metadata": {},
   "source": [
    "## Pseudocode"
   ]
  },
  {
   "cell_type": "markdown",
   "metadata": {},
   "source": [
    "    MaximalNonBranchingPaths(Graph)\n",
    "        Paths ← empty list\n",
    "        for each node v in Graph\n",
    "            if v is not a 1-in-1-out node\n",
    "                if out(v) > 0\n",
    "                    for each outgoing edge (v, w) from v\n",
    "                        NonBranchingPath ← the path consisting of the single edge (v, w)\n",
    "                        while w is a 1-in-1-out node\n",
    "                            extend NonBranchingPath by the outgoing edge (w, u) from w \n",
    "                            w ← u\n",
    "                        add NonBranchingPath to the set Paths\n",
    "        for each isolated cycle Cycle in Graph\n",
    "            add Cycle to Paths\n",
    "        return Paths "
   ]
  },
  {
   "cell_type": "code",
   "execution_count": 3,
   "metadata": {},
   "outputs": [],
   "source": [
    "# data = [\n",
    "#     '1 -> 2',\n",
    "#     '2 -> 3',\n",
    "#     '3 -> 4,5',\n",
    "#     '6 -> 7',\n",
    "#     '7 -> 6'\n",
    "# ]"
   ]
  },
  {
   "cell_type": "markdown",
   "metadata": {},
   "source": [
    "*Convert_to_graph_edges* : this function converts the raw data into graph edges by storing each node and it's respective outgoing nodes in a dictionary.Here each node will be represented as the key and its outgoing nodes will be its value.\n",
    "\n"
   ]
  },
  {
   "cell_type": "code",
   "execution_count": 4,
   "metadata": {},
   "outputs": [],
   "source": [
    "def convert_to_graph_edges(raw_data):\n",
    "    graph = {}\n",
    "    for line in raw_data:\n",
    "        x = line.split(\" -> \")\n",
    "        a, b = x[0],x[1].split(',')\n",
    "        subset = graph.get(x[0],[])\n",
    "        graph[x[0]] = subset+b\n",
    "        \n",
    "    return graph"
   ]
  },
  {
   "cell_type": "markdown",
   "metadata": {},
   "source": [
    "Load_adj_mat : This function creates an adjacency matrix by taking the edges of the graph as the parameter. \n",
    "    Firstly , the graph edges that were stored in the form of dictionary is stored in a set. \n",
    "    Then it is sorted.(ascending, lexographically). \n",
    "    Later a dataframe is created by using the node valuse as rows and columns\n",
    "    The cells that are a part of the key index and come under value columns, are marked one. \n",
    "    This is how the adjacency matrix is created."
   ]
  },
  {
   "cell_type": "code",
   "execution_count": 5,
   "metadata": {},
   "outputs": [],
   "source": [
    "def load_adj_mat(graph_edges): # this method creates adjacent matrix\n",
    "    st = set()\n",
    "    for key in graph_edges.keys():\n",
    "        st.add(key)\n",
    "        for value in graph_edges[key]:\n",
    "            st.add(value)\n",
    "    \n",
    "    st = list(np.sort([int(x) for x in list(st)]))\n",
    "    st = [str(x) for x in st] # lexicographical order\n",
    "    adj_mat = pd.DataFrame(np.zeros((len(st),len(st)),dtype=int),index=list(st),columns=list(st))\n",
    "    \n",
    "    for key in graph_edges.keys():\n",
    "        for value in graph_edges[key]:\n",
    "            adj_mat.loc[key,value] = 1\n",
    "            \n",
    "    #print(adj_mat)\n",
    "    return adj_mat"
   ]
  },
  {
   "cell_type": "markdown",
   "metadata": {},
   "source": [
    "do_DFS : Using the Adjacency matrix, we fisrt detect the edges,find the outgoing nodes and append it to a list. If there are no out going nodes, we return the list.\n",
    "Everytime we come across a new outgong node, we check whether that node is present in the list or not. If it is not present in the list, We perform DFS for that node. This happens recursively.\n",
    "\n",
    "i_dfs :This function is used to detect the isolated cycles. Intially the path will only consist of the starting node which is u. Since we are traversing through as isolated cycle, the degree of all the node will be 1-in-1-out. Primarily the status of all the nodes will be white. we change the status of the starting node to Grey and as we traverse the cylce ,we'll be changing the status of the visited nodes to grey and the visited node will become the new 'u' . Till the travel encounters a node with status as grey, it will go on. Once it encounters a grey node, the cycle(path) will be retuned."
   ]
  },
  {
   "cell_type": "code",
   "execution_count": 6,
   "metadata": {},
   "outputs": [],
   "source": [
    "def do_DFS(matrix,start,List):\n",
    "    List.append(start)\n",
    "    outgoing_nodes = matrix.index[matrix.loc[start].isin([1])].tolist() #edge detection\n",
    "\n",
    "    if (outgoing_nodes == []):\n",
    "        return List\n",
    "    \n",
    "    for outnode in outgoing_nodes:\n",
    "        if outnode not in List:\n",
    "            List = do_DFS(matrix,outnode,List) # Recursive Call\n",
    "    return List\n",
    "\n",
    "#For isolated cycle detection\n",
    "def i_dfs(matrix,u,status):\n",
    "    path = \"\" + u\n",
    "    while True:\n",
    "        status[u] = 'G'\n",
    "        v = matrix.columns[matrix.loc[u].isin([1])].tolist()[0]\n",
    "        \n",
    "        path += \" -> \" + v\n",
    "\n",
    "        if status[v] == 'G':\n",
    "            break\n",
    "        \n",
    "        u = v\n",
    "    return path"
   ]
  },
  {
   "cell_type": "code",
   "execution_count": 7,
   "metadata": {},
   "outputs": [],
   "source": [
    "# def add_cycle(u,parent,ipaths):\n",
    "#     start = u\n",
    "#     path = f'{u} -> {parent[u]}'\n",
    "#     u = parent[u]\n",
    "#     while u!=start:\n",
    "#         path = path + f' -> {parent[u]}'\n",
    "#         u = parent[u]\n",
    "#     ipaths.append(path)"
   ]
  },
  {
   "cell_type": "markdown",
   "metadata": {},
   "source": [
    "MaximunNonBrancingPaths : This is the main function to find the maximum non-branching paths. Graph is taken as the parameter for this function. Firstly, the adjacency matrix of the graph is loaded and two lists called paths and icycle_paths ,a dictionary called status and a set are initialised. In the function, the keys i.e the nodes that are not one-in-one-out are found. If the outgoing nodes of the node(key) is greater than 0, then that node(key) is added to the set. All the outgoing nodes of the respective node is added to the list call paths(along with the node itself). While the out_going_node is a one-in-one-out node , we extend the NonBranchingPath and add that outnode to the set. \n",
    "\n",
    "Next we'll be checking for the isolated cycles. For this we find the nodes(keys) that are part of the matrix but not the set.These nodes are defined under the variable name icycle_nodes. All the icycle_nodes are initialised with status as white.\n",
    "Now these nodes are traversed one by one.whenever a node with status white is encountered,i_dfs function is called and the respective node is appended to the icycle_paths list.\n"
   ]
  },
  {
   "cell_type": "code",
   "execution_count": 8,
   "metadata": {},
   "outputs": [],
   "source": [
    "def MaximalNonBranchingPaths(graph):\n",
    "    matrix = load_adj_mat(graph)\n",
    "    Paths = []\n",
    "    Set = set()\n",
    "    \n",
    "    #ICycle inits\n",
    "    status = {}\n",
    "    icycle_paths = []\n",
    "    \n",
    "    for key in graph.keys():\n",
    "        if (not(matrix.loc[key].sum() == 1 and matrix[key].sum() == 1)):\n",
    "            if (matrix.loc[key].sum() > 0):\n",
    "                outgoing_nodes = matrix.index[matrix.loc[key].isin([1])].tolist()\n",
    "                Set.add(key)\n",
    "                for outnode in outgoing_nodes:\n",
    "                    path = key + \"\"\n",
    "                    while(matrix.loc[outnode].sum()==1 and matrix[outnode].sum()==1):\n",
    "                        Set.add(outnode)\n",
    "                        path = path + \" -> \" + outnode\n",
    "                        outnode = matrix.index[matrix.loc[outnode].isin([1])].tolist()[0]\n",
    "\n",
    "                    Set.add(outnode)\n",
    "                    Paths.append(path + \" -> \" + outnode)\n",
    "\n",
    "    icycle_nodes = [key for key in graph.keys() if key not in Set]\n",
    "    for node in icycle_nodes:\n",
    "        status[node] = 'W'\n",
    "    \n",
    "    for node in icycle_nodes:\n",
    "        if status[node] == 'W':\n",
    "            icycle_paths.append(i_dfs(matrix,node,status))\n",
    "    \n",
    "    Paths += icycle_paths\n",
    "    return (Paths,matrix,icycle_paths)"
   ]
  },
  {
   "cell_type": "code",
   "execution_count": 9,
   "metadata": {},
   "outputs": [
    {
     "name": "stdout",
     "output_type": "stream",
     "text": [
      "0 -> 1 -> 2 -> 3 -> 4 -> 5 -> 6 -> 7 -> 8 -> 9 -> 10 -> 11 -> 12 -> 13\n",
      "13 -> 14 -> 15 -> 16 -> 17 -> 18 -> 19 -> 20 -> 21 -> 22 -> 23 -> 24 -> 25 -> 26 -> 27\n",
      "13 -> 27\n",
      "27 -> 28 -> 29 -> 30 -> 31 -> 32 -> 33 -> 34\n",
      "34 -> 35 -> 36 -> 37 -> 38 -> 39 -> 40 -> 41 -> 42 -> 43 -> 44 -> 45 -> 46 -> 47 -> 48\n",
      "34 -> 48\n",
      "48 -> 49 -> 50 -> 51 -> 52\n",
      "52 -> 53 -> 54 -> 55 -> 56 -> 57 -> 58 -> 59 -> 60 -> 61\n",
      "52 -> 61\n",
      "61 -> 62 -> 63 -> 64 -> 65 -> 66 -> 67 -> 68 -> 69 -> 70 -> 71 -> 72\n",
      "72 -> 73 -> 74 -> 75 -> 76 -> 77 -> 78 -> 79 -> 80 -> 81 -> 82 -> 83 -> 84 -> 85\n",
      "72 -> 85\n",
      "85 -> 86 -> 87 -> 88 -> 89 -> 90\n",
      "90 -> 91 -> 92 -> 93 -> 94 -> 95 -> 96 -> 97 -> 98 -> 99 -> 100 -> 101 -> 102 -> 103 -> 104 -> 105\n",
      "90 -> 105\n",
      "105 -> 106 -> 107 -> 108 -> 109 -> 110 -> 111 -> 112 -> 113\n",
      "113 -> 114 -> 115 -> 116 -> 117 -> 118 -> 119 -> 120 -> 121 -> 122\n",
      "113 -> 122\n",
      "122 -> 123 -> 124 -> 125 -> 126 -> 127 -> 128 -> 129 -> 130 -> 131 -> 132 -> 133 -> 134\n",
      "134 -> 135 -> 136 -> 137 -> 138 -> 139 -> 140 -> 141 -> 142 -> 143 -> 144 -> 145 -> 146 -> 147 -> 148 -> 149\n",
      "134 -> 149\n",
      "149 -> 150 -> 151\n",
      "151 -> 152 -> 153 -> 154 -> 155 -> 156 -> 157 -> 158 -> 159 -> 160 -> 161 -> 162 -> 163 -> 164 -> 165 -> 166\n",
      "151 -> 166\n",
      "166 -> 167 -> 168 -> 169 -> 170 -> 171 -> 172 -> 173 -> 174 -> 175\n",
      "175 -> 176 -> 177 -> 178 -> 179 -> 180 -> 181 -> 182 -> 183 -> 184 -> 185 -> 186 -> 187\n",
      "175 -> 187\n",
      "187 -> 188 -> 189 -> 190 -> 191\n",
      "191 -> 192 -> 193 -> 194 -> 195 -> 196 -> 197 -> 198 -> 199 -> 200 -> 201 -> 202 -> 203 -> 204 -> 205 -> 206 -> 207\n",
      "191 -> 207\n",
      "207 -> 208 -> 209 -> 210\n",
      "210 -> 211 -> 212 -> 213 -> 214 -> 215 -> 216 -> 217 -> 218 -> 219 -> 220 -> 221 -> 222\n",
      "210 -> 222\n",
      "222 -> 223 -> 224 -> 225 -> 226 -> 227 -> 228 -> 229 -> 230 -> 231\n",
      "231 -> 232 -> 233 -> 234 -> 235 -> 236 -> 237 -> 238 -> 239 -> 240 -> 241 -> 242\n",
      "231 -> 242\n",
      "242 -> 243 -> 244 -> 245 -> 246 -> 247 -> 248 -> 249 -> 250 -> 251 -> 252 -> 253 -> 254 -> 255 -> 256 -> 257 -> 258 -> 259\n",
      "259 -> 260 -> 261 -> 262 -> 263 -> 264 -> 265 -> 266 -> 267 -> 268 -> 269\n",
      "259 -> 269\n",
      "269 -> 270 -> 271 -> 272\n",
      "272 -> 273 -> 274 -> 275 -> 276 -> 277 -> 278 -> 279 -> 280\n",
      "272 -> 280\n",
      "280 -> 281 -> 282 -> 283 -> 284 -> 285 -> 286 -> 287 -> 288 -> 289 -> 290 -> 291 -> 292 -> 293 -> 294 -> 295 -> 296 -> 297 -> 298 -> 299\n",
      "300 -> 301 -> 302 -> 303 -> 304 -> 305 -> 306 -> 307 -> 308 -> 309 -> 310 -> 311 -> 312 -> 313 -> 314 -> 315 -> 316 -> 317 -> 318 -> 319 -> 300\n",
      "320 -> 321 -> 322 -> 323 -> 324 -> 325 -> 326 -> 327 -> 328 -> 329 -> 330 -> 331 -> 332 -> 333 -> 334 -> 335 -> 336 -> 337 -> 338 -> 339 -> 320\n",
      "340 -> 341 -> 342 -> 343 -> 344 -> 345 -> 346 -> 347 -> 348 -> 349 -> 350 -> 351 -> 352 -> 353 -> 354 -> 355 -> 356 -> 357 -> 358 -> 359 -> 340\n",
      "360 -> 361 -> 362 -> 363 -> 364 -> 365 -> 366 -> 367 -> 368 -> 369 -> 370 -> 371 -> 372 -> 373 -> 374 -> 375 -> 376 -> 377 -> 378 -> 379 -> 360\n",
      "380 -> 381 -> 382 -> 383 -> 384 -> 385 -> 386 -> 387 -> 388 -> 389 -> 390 -> 391 -> 392 -> 393 -> 394 -> 395 -> 396 -> 397 -> 398 -> 399 -> 380\n"
     ]
    }
   ],
   "source": [
    "graph = convert_to_graph_edges(data)\n",
    "#print(graph)\n",
    "#graph = {'AT': ['TT'], 'TT': ['TA'], 'TA': ['AC', 'AC', 'AC'], 'AC': ['CG', 'CC', 'CA'], 'CG': ['GG'], 'GG': ['GT'], 'GT': ['TA'], 'CC': ['CC', 'CT'], 'CT': ['TA'], 'CA': ['AA']}\n",
    "Paths, Matrix, ic = MaximalNonBranchingPaths(graph)\n",
    "\n",
    "#print(Paths)\n",
    "\n",
    "# comment below code if you are using text dataset instead of file input.\n",
    "with open('maximal_nonbranching_paths_output.txt','w') as f:\n",
    "    for path in Paths:\n",
    "        f.write(path + '\\n')\n",
    "\n",
    "#print('Raw Data    :',data)\n",
    "#print('Graph Edges :',graph)\n",
    "#print('\\nPaths :')\n",
    "print(*Paths,sep='\\n')\n",
    "# # print('Adjacent Matrix :')\n",
    "# Matrix"
   ]
  }
 ],
 "metadata": {
  "kernelspec": {
   "display_name": "Python 3",
   "language": "python",
   "name": "python3"
  },
  "language_info": {
   "codemirror_mode": {
    "name": "ipython",
    "version": 3
   },
   "file_extension": ".py",
   "mimetype": "text/x-python",
   "name": "python",
   "nbconvert_exporter": "python",
   "pygments_lexer": "ipython3",
   "version": "3.8.5"
  }
 },
 "nbformat": 4,
 "nbformat_minor": 4
}
